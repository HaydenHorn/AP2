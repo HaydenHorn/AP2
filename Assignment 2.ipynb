{
 "cells": [
  {
   "cell_type": "code",
   "execution_count": 34,
   "id": "8c683bba",
   "metadata": {},
   "outputs": [
    {
     "name": "stdout",
     "output_type": "stream",
     "text": [
      "1\n",
      "2\n",
      "3 *\n",
      "4\n",
      "5\n",
      "6 *\n",
      "7\n",
      "8\n",
      "9 *\n",
      "10\n",
      "11\n",
      "12 *\n",
      "13\n",
      "14\n",
      "15 *\n",
      "16\n",
      "17\n",
      "18 *\n",
      "19\n",
      "20\n",
      "21 *\n",
      "22\n",
      "23\n",
      "24 *\n",
      "25\n",
      "26\n",
      "27 *\n",
      "28\n",
      "29\n",
      "30 *\n",
      "31\n",
      "32\n",
      "33 *\n",
      "34\n",
      "35\n",
      "36 *\n",
      "37\n",
      "38\n",
      "39 *\n",
      "40\n",
      "41\n",
      "42 *\n",
      "43\n",
      "44\n",
      "45 *\n",
      "46\n",
      "47\n",
      "48 *\n",
      "49\n",
      "50\n",
      "51 *\n",
      "52\n",
      "53\n",
      "54 *\n",
      "55\n",
      "56\n",
      "57 *\n",
      "58\n",
      "59\n",
      "60 *\n",
      "61\n",
      "62\n",
      "63 *\n",
      "64\n",
      "65\n",
      "66 *\n",
      "67\n",
      "68\n",
      "69 *\n",
      "70\n",
      "71\n",
      "72 *\n",
      "73\n",
      "74\n",
      "75 *\n",
      "76\n",
      "77\n",
      "78 *\n",
      "79\n",
      "80\n",
      "81 *\n",
      "82\n",
      "83\n",
      "84 *\n",
      "85\n",
      "86\n",
      "87 *\n",
      "88\n",
      "89\n",
      "90 *\n",
      "91\n",
      "92\n",
      "93 *\n",
      "94\n",
      "95\n",
      "96 *\n",
      "97\n",
      "98\n",
      "99 *\n"
     ]
    }
   ],
   "source": [
    "for x in range(1,100):\n",
    "    if x%3==0:\n",
    "        output=(x)\n",
    "        print(output,\"*\")\n",
    "    else:\n",
    "        print(x)"
   ]
  },
  {
   "cell_type": "code",
   "execution_count": 74,
   "id": "5f827f93",
   "metadata": {},
   "outputs": [
    {
     "name": "stdout",
     "output_type": "stream",
     "text": [
      "What is the subjects age?: 18\n",
      "Adult\n"
     ]
    }
   ],
   "source": [
    "x=int(input(\"What is the subjects age?: \"))\n",
    "if 1<=x<18:\n",
    "    print(\"minor\")\n",
    "elif 18<=x<65:\n",
    "    print(\"Adult\")\n",
    "elif x<1:\n",
    "    print(\"\")\n",
    "else:\n",
    "    print(\"Senior\")"
   ]
  },
  {
   "cell_type": "code",
   "execution_count": 78,
   "id": "9b9ff96a",
   "metadata": {},
   "outputs": [
    {
     "name": "stdout",
     "output_type": "stream",
     "text": [
      "65 Senior\n",
      "78 Senior\n",
      "34 Adult\n",
      "56 Adult\n",
      "12 minor\n",
      "9 minor\n",
      "43 Adult\n",
      "67 Senior\n"
     ]
    }
   ],
   "source": [
    "number = [65,78,34,56,12,9,43,67]\n",
    "for num in number:\n",
    "    if 1<=num<18:\n",
    "        print(num,\"minor\")\n",
    "    elif 18<=num<65:\n",
    "        print(num,\"Adult\")\n",
    "    elif num<1:\n",
    "        print(\"\")\n",
    "    else:\n",
    "        print(num,\"Senior\")"
   ]
  },
  {
   "cell_type": "markdown",
   "id": "882c047f",
   "metadata": {},
   "source": [
    "# Assignment 2 - Fall Computer Science 150"
   ]
  },
  {
   "cell_type": "markdown",
   "id": "c0ff00b1",
   "metadata": {},
   "source": [
    "## Hayden Horn "
   ]
  },
  {
   "cell_type": "code",
   "execution_count": null,
   "id": "78b16650",
   "metadata": {},
   "outputs": [],
   "source": []
  }
 ],
 "metadata": {
  "kernelspec": {
   "display_name": "Python 3",
   "language": "python",
   "name": "python3"
  },
  "language_info": {
   "codemirror_mode": {
    "name": "ipython",
    "version": 3
   },
   "file_extension": ".py",
   "mimetype": "text/x-python",
   "name": "python",
   "nbconvert_exporter": "python",
   "pygments_lexer": "ipython3",
   "version": "3.8.8"
  }
 },
 "nbformat": 4,
 "nbformat_minor": 5
}
